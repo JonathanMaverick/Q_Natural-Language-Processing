{
 "cells": [
  {
   "cell_type": "markdown",
   "metadata": {},
   "source": [
    "# VK23-2 Qualification NLP Case 2"
   ]
  },
  {
   "cell_type": "code",
   "execution_count": 45,
   "metadata": {},
   "outputs": [],
   "source": [
    "# Language modelling n - gram\n",
    "import pandas as pd \n",
    "from sklearn.feature_extraction.text import CountVectorizer\n",
    "from sklearn.metrics.pairwise import cosine_similarity\n",
    "\n",
    "class NGramLanguageModel : \n",
    "    def __init__(self,n):\n",
    "        self.n = n\n",
    "        self.vectorizer = CountVectorizer(analyzer='word',ngram_range=(n,n))\n",
    "        \n",
    "    def fit_transform(self,corpus):\n",
    "        return self.vectorizer.fit_transform(corpus)\n",
    "    \n",
    "    def transform(self,corpus):\n",
    "        return self.vectorizer.transform(corpus)\n",
    "\n",
    "def calculate_cosine_similarity_matrix(matrix, query_v):\n",
    "    similarities = cosine_similarity(matrix, query_v)\n",
    "    return similarities\n",
    "\n",
    "corpus = []\n",
    "try : \n",
    "    with open(\"pos.txt\", 'r') as file:\n",
    "        corpus = file.readlines()\n",
    "except FileNotFoundError:\n",
    "    print(\"File not found\")"
   ]
  },
  {
   "cell_type": "code",
   "execution_count": 46,
   "metadata": {},
   "outputs": [],
   "source": [
    "def similarity_n_gram(query):\n",
    "  n = 1\n",
    "  document_index = 0\n",
    "\n",
    "  ngram_model = NGramLanguageModel(n)\n",
    "\n",
    "  matrix = ngram_model.fit_transform(corpus)\n",
    "  query_v = ngram_model.transform([query])\n",
    "\n",
    "  print(f'{n}-Gram Model:')\n",
    "  data = matrix.A\n",
    "\n",
    "  print(pd.DataFrame(matrix.A, columns=ngram_model.vectorizer.get_feature_names_out()))\n",
    "  print(query_v.A)\n",
    "\n",
    "  similarities = calculate_cosine_similarity_matrix(matrix, query_v)\n",
    "\n",
    "  data = pd.DataFrame(data, columns=ngram_model.vectorizer.get_feature_names_out())\n",
    "  df = pd.DataFrame(similarities, columns=['Similarity'])\n",
    "\n",
    "  print(query)\n",
    "  print()\n",
    "  print(df)"
   ]
  },
  {
   "cell_type": "code",
   "execution_count": 47,
   "metadata": {},
   "outputs": [
    {
     "name": "stderr",
     "output_type": "stream",
     "text": [
      "[nltk_data] Downloading package punkt to\n",
      "[nltk_data]     /Users/jonathanmaverick/nltk_data...\n",
      "[nltk_data]   Package punkt is already up-to-date!\n"
     ]
    }
   ],
   "source": [
    "# Word Embedding\n",
    "import nltk\n",
    "from gensim.models import Word2Vec\n",
    "from nltk.tokenize import word_tokenize\n",
    "\n",
    "nltk.download('punkt')\n",
    "\n",
    "def word_embedding(query):\n",
    "  sentences = [sentence for sentence in corpus if len(nltk.word_tokenize(sentence.lower())) == 7][:20]\n",
    "\n",
    "  sentences = sentences[:1] + sentences[2:]\n",
    "\n",
    "  tokenized_corpus = [word_tokenize(comment.lower()) for comment in sentences]\n",
    "\n",
    "  model = Word2Vec(sentences=tokenized_corpus, vector_size=100, window=5, min_count=1, workers=4)\n",
    "\n",
    "  tokenized_query = word_tokenize(query.lower())\n",
    "\n",
    "  similarities = []\n",
    "  for comment in tokenized_corpus:\n",
    "      similarity = model.wv.n_similarity(tokenized_query, comment)\n",
    "      similarities.append(similarity)\n",
    "\n",
    "  df = pd.DataFrame({'Document': sentences, 'Similarity': similarities})\n",
    "  print()\n",
    "  print(df)"
   ]
  },
  {
   "cell_type": "code",
   "execution_count": 73,
   "metadata": {},
   "outputs": [],
   "source": [
    "# Grammar Parsing with NLTK\n",
    "from nltk import CFG, ChartParser\n",
    "\n",
    "import nltk\n",
    "from nltk import CFG\n",
    "from nltk.parse import ChartParser\n",
    "\n",
    "def demonstrate_nlp_parsing(sentence, grammar):\n",
    "    words = nltk.word_tokenize(sentence)\n",
    "    parser = ChartParser(grammar)\n",
    "    parses = list(parser.parse(words))\n",
    "    if parses:\n",
    "        for tree in parses:\n",
    "            print(tree, \"\\n\")\n",
    "            tree.pretty_print()\n",
    "    else:\n",
    "        print(\"No parse tree found\")\n",
    "        \n",
    "nlp_grammar = CFG.fromstring('''\n",
    "    S -> NP VP | NP VP PP\n",
    "    VP -> V NP | V PP | V N | V Adj\n",
    "    PP -> P VP | P NP | P N\n",
    "    V -> \"eat\" | \"sleeps\" | \"dances\" | \"reads\" | \"love\"\n",
    "    NP -> \"I\" | \"the\" N | \"she\" | \"he\"\n",
    "    N -> \"cat\" | \"pizza\" | \"sofa\" | \"parties\" | \"books\" | \"library\"\n",
    "    P -> \"on\" | \"in\" | \"at\" | \"to\"\n",
    "    Adj -> \"well\"\n",
    "''')\n",
    "        \n",
    "nlp_sentences = [\n",
    "    \"I love to eat pizza\",\n",
    "    \"the cat sleeps on the sofa\",\n",
    "    \"she dances well at parties\",\n",
    "    \"he reads books in the library\"\n",
    "]\n",
    "\n",
    "def nlp_parsing():\n",
    "    for i, sentence in enumerate(nlp_sentences):\n",
    "        print(f\"Sentence {i+1}: {sentence}\")\n",
    "        demonstrate_nlp_parsing(sentence, nlp_grammar)\n",
    "        print(\"\\n\")\n"
   ]
  },
  {
   "cell_type": "code",
   "execution_count": 77,
   "metadata": {},
   "outputs": [],
   "source": [
    "# Dependency Parsing with SpaCy\n",
    "import spacy \n",
    "\n",
    "def extract_named_entities_and_parse_tree(sentence):\n",
    "    nlp = spacy.load(\"en_core_web_sm\")\n",
    "    doc = nlp(sentence)\n",
    "    \n",
    "    print(\"Formatted Dependency Parse Tree:\")\n",
    "    for token in doc:\n",
    "        print(f\"{token.text} --{token.dep_}-- {token.head.text} ({token.pos_})\")"
   ]
  },
  {
   "cell_type": "code",
   "execution_count": 81,
   "metadata": {},
   "outputs": [],
   "source": [
    "# Named Entity Recognition\n",
    "import spacy\n",
    "\n",
    "nlp = spacy.load(\"en_core_web_sm\")\n",
    "\n",
    "def categorized_nar(sentence) : \n",
    "    doc = nlp(sentence)\n",
    "    categories = {}\n",
    "    for ent in doc.ents:\n",
    "        if ent.label_ not in categories:\n",
    "            categories[ent.label_] = []\n",
    "        categories[ent.label_].append(ent.text)\n",
    "        \n",
    "    print(\"Categorized Named Entities:\")\n",
    "    for label, entities in categories.items():\n",
    "        print(f\"{label}: {', '.join(entities)}\")"
   ]
  },
  {
   "cell_type": "code",
   "execution_count": 82,
   "metadata": {},
   "outputs": [
    {
     "name": "stdout",
     "output_type": "stream",
     "text": [
      "Natural Language Processing Case 2\n",
      "1. Text Similartity N-Gram\n",
      "2. Text Similarity word embedding\n",
      "3. Simulate grammar parsing\n",
      "4. Dependency Parsing\n",
      "5. Named Entity Recognition\n",
      "0. Exit\n",
      "Categorized Named Entities:\n",
      "PERSON: Barack Obama\n",
      "GPE: Hawaii\n",
      "DATE: 2008\n"
     ]
    }
   ],
   "source": [
    "print('Natural Language Processing Case 2')\n",
    "print('1. Text Similartity N-Gram') \n",
    "print('2. Text Similarity word embedding')\n",
    "print('3. Simulate grammar parsing')\n",
    "print('4. Dependency Parsing')\n",
    "print('5. Named Entity Recognition')\n",
    "command = input('Enter command: ')\n",
    "\n",
    "if (command == '1'):\n",
    "    sentence = input('Enter sentence: ')\n",
    "    similarity_n_gram(sentence)\n",
    "elif (command == '2'):\n",
    "    sentence = input('Enter sentence: ')\n",
    "    word_embedding(sentence)\n",
    "elif (command == '3'):\n",
    "    nlp_parsing()\n",
    "elif (command == '4'):\n",
    "    sentence = input('Enter sentence: ')\n",
    "    extract_named_entities_and_parse_tree(sentence) \n",
    "elif (command == '5'):\n",
    "    sentence = input('Enter sentence: ')\n",
    "    categorized_nar(sentence)"
   ]
  }
 ],
 "metadata": {
  "kernelspec": {
   "display_name": "Python 3",
   "language": "python",
   "name": "python3"
  },
  "language_info": {
   "codemirror_mode": {
    "name": "ipython",
    "version": 3
   },
   "file_extension": ".py",
   "mimetype": "text/x-python",
   "name": "python",
   "nbconvert_exporter": "python",
   "pygments_lexer": "ipython3",
   "version": "3.11.6"
  }
 },
 "nbformat": 4,
 "nbformat_minor": 2
}
